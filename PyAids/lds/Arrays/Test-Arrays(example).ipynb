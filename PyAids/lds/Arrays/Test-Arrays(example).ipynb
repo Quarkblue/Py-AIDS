{
 "cells": [
  {
   "attachments": {},
   "cell_type": "markdown",
   "metadata": {},
   "source": [
    "This jupyter notebook will be used for testing all the modules contained in the Arrays library of the PyAids package.  \n",
    "Only one jupyter notebook will be used for testing all the modules contained in the Arrays library of the PyAids package.  \n",
    "The modules in Arrays package are:\n",
    "1. Array.py\n",
    "2. CircularBuffer.py\n",
    "3. GapBuffer.py\n",
    "4. HAT.py(Hashed array tree)\n",
    "\n",
    "```\n",
    "Points to note: Do not remove any working code(as it will be used in documentation later on), Do Not remove any errors that occur during testing, Do not remove any comments that are used for testing purposes. Comment above the code about what is being tested. And comment below the code about what should be the expected output(and your thoughts or suggestions on the functionality).\n",
    "```"
   ]
  },
  {
   "attachments": {},
   "cell_type": "markdown",
   "metadata": {},
   "source": [
    "# Arrays\n",
    "---------"
   ]
  },
  {
   "attachments": {},
   "cell_type": "markdown",
   "metadata": {},
   "source": [
    "## Array.py\n",
    "-----------"
   ]
  },
  {
   "attachments": {},
   "cell_type": "markdown",
   "metadata": {},
   "source": [
    "1. Array Creation"
   ]
  },
  {
   "cell_type": "code",
   "execution_count": 1,
   "metadata": {},
   "outputs": [
    {
     "name": "stdout",
     "output_type": "stream",
     "text": [
      "[None, None, None, None, None]\n"
     ]
    }
   ],
   "source": [
    "from Array import Array\n",
    "\n",
    "arr = Array(5, \"str\")\n",
    "print(arr)"
   ]
  },
  {
   "attachments": {},
   "cell_type": "markdown",
   "metadata": {},
   "source": [
    "2. Adding elements to array"
   ]
  },
  {
   "attachments": {},
   "cell_type": "markdown",
   "metadata": {},
   "source": [
    "testing if array will accept integer value even after giving the type as string"
   ]
  },
  {
   "cell_type": "code",
   "execution_count": 2,
   "metadata": {},
   "outputs": [
    {
     "ename": "TypeError",
     "evalue": "Type Error: str expected, got <class 'int'>",
     "output_type": "error",
     "traceback": [
      "\u001b[1;31m---------------------------------------------------------------------------\u001b[0m",
      "\u001b[1;31mTypeError\u001b[0m                                 Traceback (most recent call last)",
      "Cell \u001b[1;32mIn[2], line 2\u001b[0m\n\u001b[0;32m      1\u001b[0m \u001b[39m# works as expected for strings it gives error for inserting int\u001b[39;00m\n\u001b[1;32m----> 2\u001b[0m arr[\u001b[39m0\u001b[39;49m] \u001b[39m=\u001b[39m \u001b[39m1\u001b[39m\n",
      "File \u001b[1;32md:\\Py-Aids\\PyAids\\lds\\Arrays\\Array.py:26\u001b[0m, in \u001b[0;36mArray.__setitem__\u001b[1;34m(self, index, obj)\u001b[0m\n\u001b[0;32m     24\u001b[0m     \u001b[39mraise\u001b[39;00m \u001b[39mIndexError\u001b[39;00m(\u001b[39m\"\u001b[39m\u001b[39mIndex out of range\u001b[39m\u001b[39m\"\u001b[39m)\n\u001b[0;32m     25\u001b[0m \u001b[39melif\u001b[39;00m \u001b[39mstr\u001b[39m(\u001b[39mtype\u001b[39m(obj)) \u001b[39m!=\u001b[39m \u001b[39mf\u001b[39m\u001b[39m\"\u001b[39m\u001b[39m<class \u001b[39m\u001b[39m'\u001b[39m\u001b[39m{\u001b[39;00m\u001b[39mself\u001b[39m\u001b[39m.\u001b[39m_type\u001b[39m}\u001b[39;00m\u001b[39m'\u001b[39m\u001b[39m>\u001b[39m\u001b[39m\"\u001b[39m:\n\u001b[1;32m---> 26\u001b[0m     \u001b[39mraise\u001b[39;00m \u001b[39mTypeError\u001b[39;00m(\u001b[39mf\u001b[39m\u001b[39m\"\u001b[39m\u001b[39mType Error: \u001b[39m\u001b[39m{\u001b[39;00m\u001b[39mself\u001b[39m\u001b[39m.\u001b[39m_type\u001b[39m}\u001b[39;00m\u001b[39m expected, got \u001b[39m\u001b[39m{\u001b[39;00m\u001b[39mtype\u001b[39m(obj)\u001b[39m}\u001b[39;00m\u001b[39m\"\u001b[39m)\n\u001b[0;32m     27\u001b[0m \u001b[39melse\u001b[39;00m:\n\u001b[0;32m     28\u001b[0m     \u001b[39mself\u001b[39m\u001b[39m.\u001b[39m_array[index] \u001b[39m=\u001b[39m obj\n",
      "\u001b[1;31mTypeError\u001b[0m: Type Error: str expected, got <class 'int'>"
     ]
    }
   ],
   "source": [
    "# works as expected for strings it gives error for inserting int\n",
    "arr[0] = 1"
   ]
  },
  {
   "attachments": {},
   "cell_type": "markdown",
   "metadata": {},
   "source": [
    "testing to add right type of elements to the array"
   ]
  },
  {
   "cell_type": "code",
   "execution_count": 3,
   "metadata": {},
   "outputs": [],
   "source": [
    "# works correctly for strings\n",
    "arr[0] = \"1\""
   ]
  },
  {
   "cell_type": "code",
   "execution_count": 32,
   "metadata": {},
   "outputs": [
    {
     "name": "stdout",
     "output_type": "stream",
     "text": [
      "[None, None, None, None, None]\n"
     ]
    },
    {
     "ename": "TypeError",
     "evalue": "Type Error: UserClass expected, got <class '__main__.UserClass'>",
     "output_type": "error",
     "traceback": [
      "\u001b[1;31m---------------------------------------------------------------------------\u001b[0m",
      "\u001b[1;31mTypeError\u001b[0m                                 Traceback (most recent call last)",
      "Cell \u001b[1;32mIn[32], line 13\u001b[0m\n\u001b[0;32m     10\u001b[0m arr \u001b[39m=\u001b[39m Array(\u001b[39m5\u001b[39m, \u001b[39m\"\u001b[39m\u001b[39mUserClass\u001b[39m\u001b[39m\"\u001b[39m)\n\u001b[0;32m     11\u001b[0m \u001b[39mprint\u001b[39m(arr)\n\u001b[1;32m---> 13\u001b[0m arr[\u001b[39m0\u001b[39;49m] \u001b[39m=\u001b[39m UserClass(\u001b[39m\"\u001b[39m\u001b[39mJohn\u001b[39m\u001b[39m\"\u001b[39m)\n",
      "File \u001b[1;32md:\\Py-Aids\\PyAids\\lds\\Arrays\\Array.py:26\u001b[0m, in \u001b[0;36mArray.__setitem__\u001b[1;34m(self, index, obj)\u001b[0m\n\u001b[0;32m     24\u001b[0m     \u001b[39mraise\u001b[39;00m \u001b[39mIndexError\u001b[39;00m(\u001b[39m\"\u001b[39m\u001b[39mIndex out of range\u001b[39m\u001b[39m\"\u001b[39m)\n\u001b[0;32m     25\u001b[0m \u001b[39melif\u001b[39;00m \u001b[39mstr\u001b[39m(\u001b[39mtype\u001b[39m(obj)) \u001b[39m!=\u001b[39m \u001b[39mf\u001b[39m\u001b[39m\"\u001b[39m\u001b[39m<class \u001b[39m\u001b[39m'\u001b[39m\u001b[39m{\u001b[39;00m\u001b[39mself\u001b[39m\u001b[39m.\u001b[39m_type\u001b[39m}\u001b[39;00m\u001b[39m'\u001b[39m\u001b[39m>\u001b[39m\u001b[39m\"\u001b[39m:\n\u001b[1;32m---> 26\u001b[0m     \u001b[39mraise\u001b[39;00m \u001b[39mTypeError\u001b[39;00m(\u001b[39mf\u001b[39m\u001b[39m\"\u001b[39m\u001b[39mType Error: \u001b[39m\u001b[39m{\u001b[39;00m\u001b[39mself\u001b[39m\u001b[39m.\u001b[39m_type\u001b[39m}\u001b[39;00m\u001b[39m expected, got \u001b[39m\u001b[39m{\u001b[39;00m\u001b[39mtype\u001b[39m(obj)\u001b[39m}\u001b[39;00m\u001b[39m\"\u001b[39m)\n\u001b[0;32m     27\u001b[0m \u001b[39melse\u001b[39;00m:\n\u001b[0;32m     28\u001b[0m     \u001b[39mself\u001b[39m\u001b[39m.\u001b[39m_array[index] \u001b[39m=\u001b[39m obj\n",
      "\u001b[1;31mTypeError\u001b[0m: Type Error: UserClass expected, got <class '__main__.UserClass'>"
     ]
    }
   ],
   "source": [
    "# does not work for user defined classes gives error message\n",
    "\n",
    "class UserClass:\n",
    "    def __init__(self, name):\n",
    "        self.name = name\n",
    "    \n",
    "    def get_name(self):\n",
    "        return self.name\n",
    "\n",
    "\n",
    "# test user class with array\n",
    "arr = Array(5, \"UserClass\")\n",
    "print(arr)\n",
    "\n",
    "arr[0] = UserClass(\"John\")\n",
    "\n",
    "\n",
    "\n",
    "# DO NOT REMOVE ANY ERROR MESSAGES\n",
    "# IF you want to test new error or code, use a new cell instead of same cell\n",
    "# It is very important to keep the error messages as they are"
   ]
  },
  {
   "attachments": {},
   "cell_type": "markdown",
   "metadata": {},
   "source": [
    "After running several different test cases on each functionality, move on to the next method. in the class(Array.py)\n",
    "and once the module is finished by testing, move onto the next module."
   ]
  },
  {
   "attachments": {},
   "cell_type": "markdown",
   "metadata": {},
   "source": [
    "------------\n",
    "## CircularBuffer.py\n",
    "-------------"
   ]
  },
  {
   "attachments": {},
   "cell_type": "markdown",
   "metadata": {},
   "source": [
    "do the same for each module inside one library."
   ]
  },
  {
   "cell_type": "code",
   "execution_count": null,
   "metadata": {},
   "outputs": [],
   "source": []
  }
 ],
 "metadata": {
  "kernelspec": {
   "display_name": "virtual-aids",
   "language": "python",
   "name": "python3"
  },
  "language_info": {
   "codemirror_mode": {
    "name": "ipython",
    "version": 3
   },
   "file_extension": ".py",
   "mimetype": "text/x-python",
   "name": "python",
   "nbconvert_exporter": "python",
   "pygments_lexer": "ipython3",
   "version": "3.11.2"
  },
  "orig_nbformat": 4
 },
 "nbformat": 4,
 "nbformat_minor": 2
}
